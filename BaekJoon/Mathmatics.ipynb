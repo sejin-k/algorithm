{
 "cells": [
  {
   "cell_type": "markdown",
   "id": "canadian-given",
   "metadata": {},
   "source": [
    "# 윤년"
   ]
  },
  {
   "cell_type": "code",
   "execution_count": 1,
   "id": "outside-opportunity",
   "metadata": {},
   "outputs": [
    {
     "name": "stdin",
     "output_type": "stream",
     "text": [
      " 2000\n"
     ]
    },
    {
     "name": "stdout",
     "output_type": "stream",
     "text": [
      "1\n"
     ]
    }
   ],
   "source": [
    "year = int(input())\n",
    "\n",
    "if (year % 4 == 0) and ((year % 100 != 0) or (year % 400 == 0)):\n",
    "    print(1)\n",
    "else:\n",
    "    print(0)"
   ]
  },
  {
   "cell_type": "markdown",
   "id": "virtual-attendance",
   "metadata": {},
   "source": [
    "# 알람 시계"
   ]
  },
  {
   "cell_type": "code",
   "execution_count": 2,
   "id": "robust-airplane",
   "metadata": {},
   "outputs": [
    {
     "name": "stdin",
     "output_type": "stream",
     "text": [
      " 10 10\n"
     ]
    },
    {
     "name": "stdout",
     "output_type": "stream",
     "text": [
      "9 25\n"
     ]
    }
   ],
   "source": [
    "h, m = list(map(int, input().split()))\n",
    "\n",
    "if m >= 45:\n",
    "    print(str(h)+' '+str(m-45))\n",
    "else:\n",
    "    if h > 0:\n",
    "        print(str(h-1)+' '+str(m+15))\n",
    "    else:\n",
    "        print(str(23)+' '+str(m+15))"
   ]
  },
  {
   "cell_type": "markdown",
   "id": "colored-damage",
   "metadata": {},
   "source": [
    "# 벌집 (2292)"
   ]
  },
  {
   "cell_type": "code",
   "execution_count": 3,
   "id": "generic-classroom",
   "metadata": {},
   "outputs": [
    {
     "name": "stdin",
     "output_type": "stream",
     "text": [
      " 13\n"
     ]
    },
    {
     "name": "stdout",
     "output_type": "stream",
     "text": [
      "3\n"
     ]
    }
   ],
   "source": [
    "d = int(input())\n",
    "\n",
    "n=1\n",
    "max_num = 1\n",
    "while True:\n",
    "    max_num += (n-1)*6\n",
    "    if max_num >= d:\n",
    "        break\n",
    "    else:\n",
    "        n += 1\n",
    "        \n",
    "\n",
    "print(n)"
   ]
  },
  {
   "cell_type": "markdown",
   "id": "arranged-politics",
   "metadata": {},
   "source": [
    "# 손익분기점 (1712)"
   ]
  },
  {
   "cell_type": "code",
   "execution_count": 4,
   "id": "regular-violence",
   "metadata": {},
   "outputs": [
    {
     "name": "stdin",
     "output_type": "stream",
     "text": [
      " 1000 70 170\n"
     ]
    },
    {
     "name": "stdout",
     "output_type": "stream",
     "text": [
      "11\n"
     ]
    }
   ],
   "source": [
    "a, b, c = list(map(int, input().split()))\n",
    "\n",
    "if b >= c:\n",
    "    print(-1)\n",
    "else:\n",
    "    print((a // (c-b))+1)"
   ]
  },
  {
   "cell_type": "code",
   "execution_count": null,
   "id": "funded-closer",
   "metadata": {},
   "outputs": [],
   "source": []
  }
 ],
 "metadata": {
  "kernelspec": {
   "display_name": "Python 3",
   "language": "python",
   "name": "python3"
  },
  "language_info": {
   "codemirror_mode": {
    "name": "ipython",
    "version": 3
   },
   "file_extension": ".py",
   "mimetype": "text/x-python",
   "name": "python",
   "nbconvert_exporter": "python",
   "pygments_lexer": "ipython3",
   "version": "3.8.5"
  }
 },
 "nbformat": 4,
 "nbformat_minor": 5
}

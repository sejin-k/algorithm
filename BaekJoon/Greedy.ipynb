{
 "cells": [
  {
   "cell_type": "markdown",
   "id": "broad-valentine",
   "metadata": {},
   "source": [
    "# 설탕 배달 (2839)"
   ]
  },
  {
   "cell_type": "code",
   "execution_count": 1,
   "id": "compact-comedy",
   "metadata": {},
   "outputs": [
    {
     "name": "stdin",
     "output_type": "stream",
     "text": [
      " 18\n"
     ]
    },
    {
     "name": "stdout",
     "output_type": "stream",
     "text": [
      "4\n"
     ]
    }
   ],
   "source": [
    "total = int(input())\n",
    "\n",
    "max_5 = total // 5\n",
    "\n",
    "for i in range(max_5,-1,-1):\n",
    "    check = (total - (5 * i)) % 3\n",
    "    if check == 0:\n",
    "        result = i + ((total - (5 * i)) // 3)\n",
    "        break\n",
    "else:\n",
    "    if check != 0:\n",
    "        result = -1\n",
    "\n",
    "print(result)"
   ]
  },
  {
   "cell_type": "markdown",
   "id": "inner-tribe",
   "metadata": {},
   "source": [
    "# ATM (11399)"
   ]
  },
  {
   "cell_type": "code",
   "execution_count": 2,
   "id": "competitive-insured",
   "metadata": {},
   "outputs": [
    {
     "name": "stdin",
     "output_type": "stream",
     "text": [
      " 5\n",
      " 3 1 4 3 2\n"
     ]
    },
    {
     "name": "stdout",
     "output_type": "stream",
     "text": [
      "32\n"
     ]
    }
   ],
   "source": [
    "n = int(input())\n",
    "p = list(map(int, input().split()))\n",
    "\n",
    "p.sort()\n",
    "result = 0\n",
    "for i in range(len(p)):\n",
    "    result += p[i] * (len(p) - i)\n",
    "    \n",
    "print(result)"
   ]
  },
  {
   "cell_type": "markdown",
   "id": "progressive-forty",
   "metadata": {},
   "source": [
    "# 동전 0 (11047)"
   ]
  },
  {
   "cell_type": "code",
   "execution_count": 3,
   "id": "closed-italic",
   "metadata": {},
   "outputs": [
    {
     "name": "stdin",
     "output_type": "stream",
     "text": [
      " 10 4790\n",
      " 1\n",
      " 5\n",
      " 10\n",
      " 50\n",
      " 100\n",
      " 500\n",
      " 1000\n",
      " 5000\n",
      " 10000\n",
      " 50000\n"
     ]
    },
    {
     "name": "stdout",
     "output_type": "stream",
     "text": [
      "12\n"
     ]
    }
   ],
   "source": [
    "num, total = list(map(int, input().split()))\n",
    "coins = []\n",
    "for i in range(num):\n",
    "    coins.append(int(input()))\n",
    "coins.sort(reverse=True)\n",
    "\n",
    "result = 0\n",
    "for coin in coins:\n",
    "    if total >= coin:\n",
    "        a, b = divmod(total, coin)\n",
    "        result += a\n",
    "        if b == 0:\n",
    "            break\n",
    "        else:\n",
    "            total = b\n",
    "            \n",
    "print(result)"
   ]
  }
 ],
 "metadata": {
  "kernelspec": {
   "display_name": "Python 3",
   "language": "python",
   "name": "python3"
  },
  "language_info": {
   "codemirror_mode": {
    "name": "ipython",
    "version": 3
   },
   "file_extension": ".py",
   "mimetype": "text/x-python",
   "name": "python",
   "nbconvert_exporter": "python",
   "pygments_lexer": "ipython3",
   "version": "3.8.5"
  }
 },
 "nbformat": 4,
 "nbformat_minor": 5
}

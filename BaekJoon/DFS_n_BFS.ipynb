{
 "cells": [
  {
   "cell_type": "markdown",
   "id": "secure-blink",
   "metadata": {},
   "source": [
    "# DFS와 BFS (1260)"
   ]
  },
  {
   "cell_type": "code",
   "execution_count": 1,
   "id": "enhanced-defense",
   "metadata": {},
   "outputs": [
    {
     "name": "stdin",
     "output_type": "stream",
     "text": [
      " 4 5 1\n",
      " 1 2\n",
      " 1 3\n",
      " 1 4\n",
      " 2 4\n",
      " 3 4\n"
     ]
    },
    {
     "name": "stdout",
     "output_type": "stream",
     "text": [
      "1 2 4 3\n",
      "1 2 3 4\n"
     ]
    }
   ],
   "source": [
    "# input 입력\n",
    "n, m, v = map(int, input().split())\n",
    "\n",
    "# 그래프 간선 초기화\n",
    "graph = []\n",
    "for i in range(n):\n",
    "    graph.append([])\n",
    "\n",
    "# 그래프 간선 입력\n",
    "for i in range(m):\n",
    "    a, b = map(int, input().split())\n",
    "    graph[a-1].append(b-1)\n",
    "    graph[b-1].append(a-1)\n",
    "\n",
    "def bfs(start):\n",
    "    from collections import deque\n",
    "    # 필요 변수 선언\n",
    "    q = deque([start-1])\n",
    "    visited = []\n",
    "\n",
    "    while q:\n",
    "      current = q.popleft()\n",
    "      if current not in visited:\n",
    "        visited.append(current)\n",
    "      q.extend(sorted(list(set(graph[current]) - set(visited))))\n",
    "\n",
    "    return \" \".join([str(i + 1) for i in visited])\n",
    "      \n",
    "\n",
    "def dfs(start):\n",
    "  # 필요한 변수 선언\n",
    "  stack = [start-1]\n",
    "  visited = []\n",
    "\n",
    "  while stack:\n",
    "    current = stack.pop()\n",
    "    if current not in visited:\n",
    "      visited.append(current)\n",
    "      stack.extend(sorted(list(set(graph[current]) - set(visited)), reverse=True))\n",
    "  \n",
    "  return \" \".join([str(i + 1) for i in visited])\n",
    "\n",
    "print(dfs(v))\n",
    "print(bfs(v))"
   ]
  },
  {
   "cell_type": "code",
   "execution_count": null,
   "id": "random-attention",
   "metadata": {},
   "outputs": [],
   "source": []
  }
 ],
 "metadata": {
  "kernelspec": {
   "display_name": "Python 3",
   "language": "python",
   "name": "python3"
  },
  "language_info": {
   "codemirror_mode": {
    "name": "ipython",
    "version": 3
   },
   "file_extension": ".py",
   "mimetype": "text/x-python",
   "name": "python",
   "nbconvert_exporter": "python",
   "pygments_lexer": "ipython3",
   "version": "3.8.5"
  }
 },
 "nbformat": 4,
 "nbformat_minor": 5
}

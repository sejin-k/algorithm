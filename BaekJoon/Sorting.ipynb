{
 "cells": [
  {
   "cell_type": "markdown",
   "id": "conventional-chemical",
   "metadata": {},
   "source": [
    "# 수 정렬하기 (2750)"
   ]
  },
  {
   "cell_type": "code",
   "execution_count": 1,
   "id": "experienced-specialist",
   "metadata": {},
   "outputs": [
    {
     "name": "stdin",
     "output_type": "stream",
     "text": [
      " 5\n",
      " 4\n",
      " 3\n",
      " 5\n",
      " 1\n",
      " 2\n"
     ]
    },
    {
     "name": "stdout",
     "output_type": "stream",
     "text": [
      "1\n",
      "2\n",
      "3\n",
      "4\n",
      "5\n"
     ]
    }
   ],
   "source": [
    "n = int(input())\n",
    "\n",
    "li = [int(input()) for i in range(n)]\n",
    "li.sort()\n",
    "for i in range(n): print(li[i])"
   ]
  },
  {
   "cell_type": "code",
   "execution_count": null,
   "id": "musical-viewer",
   "metadata": {},
   "outputs": [],
   "source": []
  }
 ],
 "metadata": {
  "kernelspec": {
   "display_name": "Python 3",
   "language": "python",
   "name": "python3"
  },
  "language_info": {
   "codemirror_mode": {
    "name": "ipython",
    "version": 3
   },
   "file_extension": ".py",
   "mimetype": "text/x-python",
   "name": "python",
   "nbconvert_exporter": "python",
   "pygments_lexer": "ipython3",
   "version": "3.8.5"
  }
 },
 "nbformat": 4,
 "nbformat_minor": 5
}
